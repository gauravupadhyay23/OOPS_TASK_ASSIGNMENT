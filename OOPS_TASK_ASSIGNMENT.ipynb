{
 "cells": [
  {
   "cell_type": "markdown",
   "id": "925beca5-14fc-4de5-8979-c8119bb92ec4",
   "metadata": {},
   "source": [
    "Q1, Create a vehicle class with an init method having instance variables as name_of_vehicle, max_speed\n",
    "and average_of_vehicle."
   ]
  },
  {
   "cell_type": "code",
   "execution_count": 1,
   "id": "a6a3d67e-f65b-4d47-9411-31b6196db2d3",
   "metadata": {},
   "outputs": [],
   "source": [
    "class vehicle:\n",
    "\n",
    "    def __init__(self, name, max_speed, average):\n",
    "        self.name = name\n",
    "        self.max_speed = max_speed\n",
    "        self.average = average\n",
    "\n",
    "    def details(self):\n",
    "        return self.name,self.max_speed,self.average"
   ]
  },
  {
   "cell_type": "markdown",
   "id": "6820eb87-0cc6-456f-a99e-59a8c228ef90",
   "metadata": {},
   "source": [
    "Q2. Create a child class car from the vehicle class created in Que 1, which will inherit the vehicle class.\n",
    "Create a method named seating_capacity which takes capacity as an argument and returns the name of\n",
    "the vehicle and its seating capacity."
   ]
  },
  {
   "cell_type": "code",
   "execution_count": 2,
   "id": "992cf421-4b97-4e25-9167-5b8cbb00d1a1",
   "metadata": {},
   "outputs": [
    {
     "data": {
      "text/plain": [
       "'The seating capacity of Tata is 5 passengers'"
      ]
     },
     "execution_count": 2,
     "metadata": {},
     "output_type": "execute_result"
    }
   ],
   "source": [
    "class car(vehicle):\n",
    "\n",
    "    def seating_capacity(self,seats_number):\n",
    "        return f\"The seating capacity of {self.name} is {seats_number} passengers\"\n",
    "\n",
    "my_car = car(\"Tata\",130,12)\n",
    "my_car.seating_capacity(5)"
   ]
  },
  {
   "cell_type": "markdown",
   "id": "6f338e7a-b99c-4799-a914-39b840e63a6a",
   "metadata": {},
   "source": [
    "Q3. What is multiple inheritance? Write a python code to demonstrate multiple inheritance."
   ]
  },
  {
   "cell_type": "markdown",
   "id": "cbe26a69-e38c-4a1a-8b55-3864bffc28ff",
   "metadata": {},
   "source": [
    "A3. This type of inheritance allows a class to inherit from multiple parent classes."
   ]
  },
  {
   "cell_type": "code",
   "execution_count": 7,
   "id": "a9d5c346-e6ce-4ea6-895c-a132fc340bdf",
   "metadata": {},
   "outputs": [],
   "source": [
    "class Two_wheeler:\n",
    "        \n",
    "    def two_wheeler_details(self):\n",
    "        return \"This is a two wheeler\"\n",
    "    \n",
    "class Four_wheeler:\n",
    "        \n",
    "    def four_wheeler_details(self):\n",
    "        return \"THis is a four wheeler\"\n",
    "    \n",
    "class vehicle(Two_wheeler,Four_wheeler):\n",
    "    \n",
    "    def __init__(self,name,max_speed,year):\n",
    "        self.name = name\n",
    "        self.max_speed = max_speed\n",
    "        self.year = year\n",
    "        \n",
    "    def number_wheels(self,wheelsnumber):\n",
    "        if wheelsnumber == 2:\n",
    "            print (self.two_wheeler_details())\n",
    "           \n",
    "        \n",
    "        elif wheelsnumber == 4:\n",
    "            print (self.four_wheeler_details())\n",
    "            \n",
    "        else :\n",
    "            print (\"Invalid number of wheels.\")"
   ]
  },
  {
   "cell_type": "code",
   "execution_count": 9,
   "id": "0b15c3d2-073c-484e-961b-1a0d4719640b",
   "metadata": {},
   "outputs": [
    {
     "name": "stdout",
     "output_type": "stream",
     "text": [
      "This is a two wheeler\n"
     ]
    }
   ],
   "source": [
    "my_car = vehicle(\"maruti\",120,2022)\n",
    "my_car.number_wheels(2)"
   ]
  },
  {
   "cell_type": "markdown",
   "id": "92b95c5f-6f3e-46ba-88cf-e7f3eec1dd0f",
   "metadata": {},
   "source": [
    "Q4. What are getter and setter in python? Create a class and create a getter and a setter method in this\n",
    "class."
   ]
  },
  {
   "cell_type": "markdown",
   "id": "43ab3454-524f-4588-9ef7-f8daee8c9533",
   "metadata": {},
   "source": [
    "A4 Getters and setters are methods in OOP that allow us to read and write to the attributes of a class which are private. "
   ]
  },
  {
   "cell_type": "code",
   "execution_count": 12,
   "id": "d6611fe6-f262-46a0-a896-eb8433b494ab",
   "metadata": {},
   "outputs": [],
   "source": [
    "class Person:\n",
    "    def __init__(self, name, age):\n",
    "        self.__name = name\n",
    "        self.__age = age\n",
    "        \n",
    "    def details(self):\n",
    "        return self.__name,self.__age\n",
    "\n",
    "    def get_name(self):\n",
    "        return self.__name\n",
    "\n",
    "    def set_name(self, new_name):\n",
    "        self.__name = new_name\n",
    "\n",
    "    def get_age(self):\n",
    "        return self.__age\n",
    "\n",
    "    def set_age(self, new_age):\n",
    "        self.__age = new_age\n"
   ]
  },
  {
   "cell_type": "code",
   "execution_count": 13,
   "id": "ed40b576-72be-4b47-982f-2454472df33b",
   "metadata": {},
   "outputs": [],
   "source": [
    "my = Person(\"Gaurav\",34)"
   ]
  },
  {
   "cell_type": "code",
   "execution_count": 14,
   "id": "bd721d7b-9771-4e0d-985f-f0e01d01a548",
   "metadata": {},
   "outputs": [
    {
     "data": {
      "text/plain": [
       "('Gaurav', 34)"
      ]
     },
     "execution_count": 14,
     "metadata": {},
     "output_type": "execute_result"
    }
   ],
   "source": [
    "my.details()"
   ]
  },
  {
   "cell_type": "code",
   "execution_count": 15,
   "id": "d25455de-74ef-40fa-8948-51d55d902a8b",
   "metadata": {},
   "outputs": [
    {
     "data": {
      "text/plain": [
       "'Gaurav'"
      ]
     },
     "execution_count": 15,
     "metadata": {},
     "output_type": "execute_result"
    }
   ],
   "source": [
    "my.get_name()\n"
   ]
  },
  {
   "cell_type": "code",
   "execution_count": 16,
   "id": "a03e6eae-53b3-4858-b422-641e976a0c74",
   "metadata": {},
   "outputs": [],
   "source": [
    "my.set_name(\"Rohit\")"
   ]
  },
  {
   "cell_type": "code",
   "execution_count": 17,
   "id": "8e076aa2-ca1b-4ac1-b442-cad58e23bc68",
   "metadata": {},
   "outputs": [
    {
     "data": {
      "text/plain": [
       "('Rohit', 34)"
      ]
     },
     "execution_count": 17,
     "metadata": {},
     "output_type": "execute_result"
    }
   ],
   "source": [
    "my.details()"
   ]
  },
  {
   "cell_type": "markdown",
   "id": "c4604a8d-c487-4c25-84fa-b5a92e8ff929",
   "metadata": {},
   "source": [
    "Q5.What is method overriding in python? Write a python code to demonstrate method overriding."
   ]
  },
  {
   "cell_type": "markdown",
   "id": "ad495250-3bbf-4751-b87a-5749660acfa9",
   "metadata": {},
   "source": [
    "Method overriding in Python is a feature of object-oriented programming that allows a \n",
    "subclass to provide its own implementation of a method that is already defined in its superclass."
   ]
  },
  {
   "cell_type": "code",
   "execution_count": 18,
   "id": "c9021fc3-4c36-437d-884e-d8ae3f9fda5f",
   "metadata": {},
   "outputs": [
    {
     "name": "stdout",
     "output_type": "stream",
     "text": [
      "Woof!\n",
      "Meow!\n"
     ]
    }
   ],
   "source": [
    "class Animal:\n",
    "    def make_sound(self):\n",
    "        pass\n",
    "\n",
    "class Dog(Animal):\n",
    "    def make_sound(self):\n",
    "        print(\"Woof!\")\n",
    "\n",
    "class Cat(Animal):\n",
    "    def make_sound(self):\n",
    "        print(\"Meow!\")\n",
    "\n",
    "\n",
    "dog = Dog()\n",
    "\n",
    "\n",
    "dog.make_sound()\n",
    "\n",
    "\n",
    "cat = Cat()\n",
    "\n",
    "\n",
    "cat.make_sound()"
   ]
  },
  {
   "cell_type": "code",
   "execution_count": null,
   "id": "585aad6a-8b9b-41dc-90d9-b261fc0416ed",
   "metadata": {},
   "outputs": [],
   "source": []
  }
 ],
 "metadata": {
  "kernelspec": {
   "display_name": "Python 3 (ipykernel)",
   "language": "python",
   "name": "python3"
  },
  "language_info": {
   "codemirror_mode": {
    "name": "ipython",
    "version": 3
   },
   "file_extension": ".py",
   "mimetype": "text/x-python",
   "name": "python",
   "nbconvert_exporter": "python",
   "pygments_lexer": "ipython3",
   "version": "3.10.8"
  }
 },
 "nbformat": 4,
 "nbformat_minor": 5
}
